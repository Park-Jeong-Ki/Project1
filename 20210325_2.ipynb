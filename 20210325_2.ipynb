{
  "nbformat": 4,
  "nbformat_minor": 0,
  "metadata": {
    "colab": {
      "name": "20210325.ipynb",
      "provenance": [],
      "collapsed_sections": []
    },
    "kernelspec": {
      "name": "python3",
      "display_name": "Python 3"
    },
    "language_info": {
      "name": "python"
    }
  },
  "cells": [
    {
      "cell_type": "code",
      "metadata": {
        "colab": {
          "base_uri": "https://localhost:8080/"
        },
        "id": "o3xrb5at45DD",
        "outputId": "36892f4a-d99e-413f-f93d-8cf811c18275"
      },
      "source": [
        "import pandas as pd\n",
        "\n",
        "df = pd.read_csv('vgames2.csv')\n",
        "\n",
        "#df.columns\n",
        "\n",
        "df = df.drop('Unnamed: 0' , axis =1)\n",
        "\n",
        "df.shape"
      ],
      "execution_count": 14,
      "outputs": [
        {
          "output_type": "execute_result",
          "data": {
            "text/plain": [
              "(16598, 9)"
            ]
          },
          "metadata": {
            "tags": []
          },
          "execution_count": 14
        }
      ]
    },
    {
      "cell_type": "code",
      "metadata": {
        "colab": {
          "base_uri": "https://localhost:8080/"
        },
        "id": "1PioDFim5Sy-",
        "outputId": "3c2894b6-3545-4a00-f8b7-edbb8a35022d"
      },
      "source": [
        "# 결측치 구하기\n",
        "# 1. 결측치를 어떻게 채울까?\n",
        "df.isnull().sum()"
      ],
      "execution_count": 2,
      "outputs": [
        {
          "output_type": "execute_result",
          "data": {
            "text/plain": [
              "Name             0\n",
              "Platform         0\n",
              "Year           271\n",
              "Genre           50\n",
              "Publisher       58\n",
              "NA_Sales         0\n",
              "EU_Sales         0\n",
              "JP_Sales         0\n",
              "Other_Sales      0\n",
              "dtype: int64"
            ]
          },
          "metadata": {
            "tags": []
          },
          "execution_count": 2
        }
      ]
    },
    {
      "cell_type": "code",
      "metadata": {
        "id": "6nhEf68K5aYm"
      },
      "source": [
        "pd.set_option('display.max_columns', None)\n",
        "pd.set_option('display.max_rows', None)\n",
        "count_df = df['NA_Sales'].value_counts()\n",
        "\n",
        "\n",
        "# M은 때고, K는 1000으로 나누면 될까?\n",
        "# 조건문으로 K가 들어있는거 /1000\n",
        "# M 들어있는거 걍 M 삭제 하면 될것같다.\n",
        "# NA, EU, JP , OTHER\n",
        "#count_df\n"
      ],
      "execution_count": 8,
      "outputs": []
    },
    {
      "cell_type": "code",
      "metadata": {
        "colab": {
          "base_uri": "https://localhost:8080/"
        },
        "id": "JiyPOa0Bv2M6",
        "outputId": "c9ae1f26-51b7-4d09-c864-c8e00568126e"
      },
      "source": [
        "df['Genre'].describe()"
      ],
      "execution_count": 4,
      "outputs": [
        {
          "output_type": "execute_result",
          "data": {
            "text/plain": [
              "count      16548\n",
              "unique        12\n",
              "top       Action\n",
              "freq        3305\n",
              "Name: Genre, dtype: object"
            ]
          },
          "metadata": {
            "tags": []
          },
          "execution_count": 4
        }
      ]
    },
    {
      "cell_type": "code",
      "metadata": {
        "id": "UeHh4kYTx1GS"
      },
      "source": [
        "df['Genre'].value_counts()"
      ],
      "execution_count": null,
      "outputs": []
    },
    {
      "cell_type": "code",
      "metadata": {
        "id": "khXKfSXY2y58"
      },
      "source": [
        "null_data = df[df.isnull().any(axis=1)]\n",
        "\n",
        "null_data"
      ],
      "execution_count": null,
      "outputs": []
    },
    {
      "cell_type": "code",
      "metadata": {
        "id": "7OZKYijb24Xj"
      },
      "source": [
        "Year_data = null_data[['Name','Year']]\n",
        "null_Year_data = Year_data[Year_data.isnull().any(axis=1)]"
      ],
      "execution_count": 19,
      "outputs": []
    },
    {
      "cell_type": "code",
      "metadata": {
        "id": "uxdUeY0u3A1L"
      },
      "source": [
        "null_Year_data"
      ],
      "execution_count": null,
      "outputs": []
    },
    {
      "cell_type": "code",
      "metadata": {
        "colab": {
          "base_uri": "https://localhost:8080/"
        },
        "id": "A-uoXeDoPXN-",
        "outputId": "e2d7b5b2-fd6b-4881-97b9-9abf40199ca4"
      },
      "source": [
        "df['Year'].value_counts()"
      ],
      "execution_count": 26,
      "outputs": [
        {
          "output_type": "execute_result",
          "data": {
            "text/plain": [
              "2009.0    1421\n",
              "2008.0    1418\n",
              "2010.0    1252\n",
              "2007.0    1199\n",
              "2011.0    1129\n",
              "2006.0    1001\n",
              "2005.0     937\n",
              "2002.0     826\n",
              "2003.0     768\n",
              "2004.0     759\n",
              "2012.0     655\n",
              "2015.0     609\n",
              "2014.0     580\n",
              "2013.0     544\n",
              "2001.0     480\n",
              "1998.0     376\n",
              "2000.0     346\n",
              "2016.0     339\n",
              "1999.0     338\n",
              "1997.0     287\n",
              "1996.0     260\n",
              "1995.0     215\n",
              "1994.0     120\n",
              "1993.0      60\n",
              "1981.0      46\n",
              "1992.0      43\n",
              "1991.0      41\n",
              "1982.0      36\n",
              "1986.0      20\n",
              "1989.0      17\n",
              "1983.0      17\n",
              "1987.0      16\n",
              "1990.0      16\n",
              "1988.0      15\n",
              "1984.0      14\n",
              "1985.0      14\n",
              "11.0        10\n",
              "9.0         10\n",
              "8.0         10\n",
              "1980.0       9\n",
              "10.0         7\n",
              "3.0          7\n",
              "6.0          7\n",
              "16.0         5\n",
              "15.0         5\n",
              "4.0          4\n",
              "5.0          4\n",
              "95.0         4\n",
              "98.0         3\n",
              "2017.0       3\n",
              "96.0         3\n",
              "7.0          3\n",
              "0.0          3\n",
              "2.0          3\n",
              "1.0          2\n",
              "97.0         2\n",
              "12.0         2\n",
              "14.0         2\n",
              "13.0         2\n",
              "94.0         1\n",
              "2020.0       1\n",
              "86.0         1\n",
              "Name: Year, dtype: int64"
            ]
          },
          "metadata": {
            "tags": []
          },
          "execution_count": 26
        }
      ]
    },
    {
      "cell_type": "code",
      "metadata": {
        "id": "Uc6yop-eTU7J"
      },
      "source": [
        ""
      ],
      "execution_count": null,
      "outputs": []
    }
  ]
}