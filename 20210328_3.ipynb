{
  "nbformat": 4,
  "nbformat_minor": 0,
  "metadata": {
    "colab": {
      "name": "20210328 (1).ipynb",
      "provenance": [],
      "collapsed_sections": []
    },
    "kernelspec": {
      "name": "python3",
      "display_name": "Python 3"
    },
    "language_info": {
      "name": "python"
    }
  },
  "cells": [
    {
      "cell_type": "code",
      "metadata": {
        "id": "lisOlS36rkkw"
      },
      "source": [
        "import pandas as pd\n",
        "\n",
        "df = pd.read_csv('1st.csv')"
      ],
      "execution_count": 1,
      "outputs": []
    },
    {
      "cell_type": "code",
      "metadata": {
        "colab": {
          "base_uri": "https://localhost:8080/",
          "height": 589
        },
        "id": "kyvBRCTgruiY",
        "outputId": "4eb807c7-3972-43ed-ea05-6fe005629c7c"
      },
      "source": [
        "df"
      ],
      "execution_count": 2,
      "outputs": [
        {
          "output_type": "execute_result",
          "data": {
            "text/html": [
              "<div>\n",
              "<style scoped>\n",
              "    .dataframe tbody tr th:only-of-type {\n",
              "        vertical-align: middle;\n",
              "    }\n",
              "\n",
              "    .dataframe tbody tr th {\n",
              "        vertical-align: top;\n",
              "    }\n",
              "\n",
              "    .dataframe thead th {\n",
              "        text-align: right;\n",
              "    }\n",
              "</style>\n",
              "<table border=\"1\" class=\"dataframe\">\n",
              "  <thead>\n",
              "    <tr style=\"text-align: right;\">\n",
              "      <th></th>\n",
              "      <th>Unnamed: 0</th>\n",
              "      <th>Name</th>\n",
              "      <th>Platform</th>\n",
              "      <th>Year</th>\n",
              "      <th>Genre</th>\n",
              "      <th>Publisher</th>\n",
              "      <th>NA_Sales</th>\n",
              "      <th>EU_Sales</th>\n",
              "      <th>JP_Sales</th>\n",
              "      <th>Other_Sales</th>\n",
              "    </tr>\n",
              "  </thead>\n",
              "  <tbody>\n",
              "    <tr>\n",
              "      <th>0</th>\n",
              "      <td>0</td>\n",
              "      <td>Candace Kane's Candy Factory</td>\n",
              "      <td>DS</td>\n",
              "      <td>2008</td>\n",
              "      <td>Action</td>\n",
              "      <td>Destineer</td>\n",
              "      <td>0.04</td>\n",
              "      <td>0.00</td>\n",
              "      <td>0.00</td>\n",
              "      <td>0.00</td>\n",
              "    </tr>\n",
              "    <tr>\n",
              "      <th>1</th>\n",
              "      <td>1</td>\n",
              "      <td>The Munchables</td>\n",
              "      <td>Wii</td>\n",
              "      <td>2009</td>\n",
              "      <td>Action</td>\n",
              "      <td>Namco Bandai Games</td>\n",
              "      <td>0.17</td>\n",
              "      <td>0.00</td>\n",
              "      <td>0.00</td>\n",
              "      <td>0.01</td>\n",
              "    </tr>\n",
              "    <tr>\n",
              "      <th>2</th>\n",
              "      <td>2</td>\n",
              "      <td>Otome wa Oanesama Boku ni Koi Shiteru Portable</td>\n",
              "      <td>PSP</td>\n",
              "      <td>2010</td>\n",
              "      <td>Adventure</td>\n",
              "      <td>Alchemist</td>\n",
              "      <td>0.00</td>\n",
              "      <td>0.00</td>\n",
              "      <td>0.02</td>\n",
              "      <td>0.00</td>\n",
              "    </tr>\n",
              "    <tr>\n",
              "      <th>3</th>\n",
              "      <td>3</td>\n",
              "      <td>Deal or No Deal: Special Edition</td>\n",
              "      <td>DS</td>\n",
              "      <td>2010</td>\n",
              "      <td>Misc</td>\n",
              "      <td>Zoo Games</td>\n",
              "      <td>0.04</td>\n",
              "      <td>0.00</td>\n",
              "      <td>0.00</td>\n",
              "      <td>0.00</td>\n",
              "    </tr>\n",
              "    <tr>\n",
              "      <th>4</th>\n",
              "      <td>4</td>\n",
              "      <td>Ben 10 Ultimate Alien: Cosmic Destruction</td>\n",
              "      <td>PS3</td>\n",
              "      <td>2010</td>\n",
              "      <td>Platform</td>\n",
              "      <td>D3Publisher</td>\n",
              "      <td>0.12</td>\n",
              "      <td>0.09</td>\n",
              "      <td>0.00</td>\n",
              "      <td>0.04</td>\n",
              "    </tr>\n",
              "    <tr>\n",
              "      <th>...</th>\n",
              "      <td>...</td>\n",
              "      <td>...</td>\n",
              "      <td>...</td>\n",
              "      <td>...</td>\n",
              "      <td>...</td>\n",
              "      <td>...</td>\n",
              "      <td>...</td>\n",
              "      <td>...</td>\n",
              "      <td>...</td>\n",
              "      <td>...</td>\n",
              "    </tr>\n",
              "    <tr>\n",
              "      <th>16593</th>\n",
              "      <td>16593</td>\n",
              "      <td>Ice Age 2: The Meltdown</td>\n",
              "      <td>GC</td>\n",
              "      <td>2006</td>\n",
              "      <td>Platform</td>\n",
              "      <td>Vivendi Games</td>\n",
              "      <td>0.15</td>\n",
              "      <td>0.04</td>\n",
              "      <td>0.00</td>\n",
              "      <td>0.01</td>\n",
              "    </tr>\n",
              "    <tr>\n",
              "      <th>16594</th>\n",
              "      <td>16594</td>\n",
              "      <td>Rainbow Islands: Revolution</td>\n",
              "      <td>PSP</td>\n",
              "      <td>2005</td>\n",
              "      <td>Action</td>\n",
              "      <td>Rising Star Games</td>\n",
              "      <td>0.01</td>\n",
              "      <td>0.00</td>\n",
              "      <td>0.00</td>\n",
              "      <td>0.00</td>\n",
              "    </tr>\n",
              "    <tr>\n",
              "      <th>16595</th>\n",
              "      <td>16595</td>\n",
              "      <td>NBA 2K16</td>\n",
              "      <td>PS3</td>\n",
              "      <td>2015</td>\n",
              "      <td>Sports</td>\n",
              "      <td>Take-Two Interactive</td>\n",
              "      <td>0.44</td>\n",
              "      <td>0.19</td>\n",
              "      <td>0.03</td>\n",
              "      <td>0.13</td>\n",
              "    </tr>\n",
              "    <tr>\n",
              "      <th>16596</th>\n",
              "      <td>16596</td>\n",
              "      <td>Toukiden: The Age of Demons</td>\n",
              "      <td>PSV</td>\n",
              "      <td>2013</td>\n",
              "      <td>Action</td>\n",
              "      <td>Tecmo Koei</td>\n",
              "      <td>0.05</td>\n",
              "      <td>0.05</td>\n",
              "      <td>0.25</td>\n",
              "      <td>0.03</td>\n",
              "    </tr>\n",
              "    <tr>\n",
              "      <th>16597</th>\n",
              "      <td>16597</td>\n",
              "      <td>The King of Fighters '95</td>\n",
              "      <td>PS</td>\n",
              "      <td>1996</td>\n",
              "      <td>Fighting</td>\n",
              "      <td>Sony Computer Entertainment</td>\n",
              "      <td>0.00</td>\n",
              "      <td>0.00</td>\n",
              "      <td>0.16</td>\n",
              "      <td>0.01</td>\n",
              "    </tr>\n",
              "  </tbody>\n",
              "</table>\n",
              "<p>16598 rows × 10 columns</p>\n",
              "</div>"
            ],
            "text/plain": [
              "       Unnamed: 0  ... Other_Sales\n",
              "0               0  ...        0.00\n",
              "1               1  ...        0.01\n",
              "2               2  ...        0.00\n",
              "3               3  ...        0.00\n",
              "4               4  ...        0.04\n",
              "...           ...  ...         ...\n",
              "16593       16593  ...        0.01\n",
              "16594       16594  ...        0.00\n",
              "16595       16595  ...        0.13\n",
              "16596       16596  ...        0.03\n",
              "16597       16597  ...        0.01\n",
              "\n",
              "[16598 rows x 10 columns]"
            ]
          },
          "metadata": {
            "tags": []
          },
          "execution_count": 2
        }
      ]
    },
    {
      "cell_type": "code",
      "metadata": {
        "colab": {
          "base_uri": "https://localhost:8080/"
        },
        "id": "RbdAOAzJrvbg",
        "outputId": "bdf6c65e-71ae-42a5-ae5c-229d53a0381d"
      },
      "source": [
        "df.isnull().sum()"
      ],
      "execution_count": 3,
      "outputs": [
        {
          "output_type": "execute_result",
          "data": {
            "text/plain": [
              "Unnamed: 0     0\n",
              "Name           0\n",
              "Platform       0\n",
              "Year           0\n",
              "Genre          0\n",
              "Publisher      0\n",
              "NA_Sales       0\n",
              "EU_Sales       0\n",
              "JP_Sales       0\n",
              "Other_Sales    0\n",
              "dtype: int64"
            ]
          },
          "metadata": {
            "tags": []
          },
          "execution_count": 3
        }
      ]
    },
    {
      "cell_type": "code",
      "metadata": {
        "colab": {
          "base_uri": "https://localhost:8080/",
          "height": 49
        },
        "id": "FEbikUUVr1xX",
        "outputId": "72b59c2c-69a3-4e85-d7c7-66311f814b25"
      },
      "source": [
        "#장르 결측치 채우기\n",
        "\n",
        "null_data = df[df.isnull().any(axis=1)]\n",
        "\n",
        "Genre_data = null_data[['Name','Genre']]\n",
        "\n",
        "null_Genre_data = Genre_data[Genre_data.isnull().any(axis=1)]\n",
        "\n",
        "null_Genre_data"
      ],
      "execution_count": 4,
      "outputs": [
        {
          "output_type": "execute_result",
          "data": {
            "text/html": [
              "<div>\n",
              "<style scoped>\n",
              "    .dataframe tbody tr th:only-of-type {\n",
              "        vertical-align: middle;\n",
              "    }\n",
              "\n",
              "    .dataframe tbody tr th {\n",
              "        vertical-align: top;\n",
              "    }\n",
              "\n",
              "    .dataframe thead th {\n",
              "        text-align: right;\n",
              "    }\n",
              "</style>\n",
              "<table border=\"1\" class=\"dataframe\">\n",
              "  <thead>\n",
              "    <tr style=\"text-align: right;\">\n",
              "      <th></th>\n",
              "      <th>Name</th>\n",
              "      <th>Genre</th>\n",
              "    </tr>\n",
              "  </thead>\n",
              "  <tbody>\n",
              "  </tbody>\n",
              "</table>\n",
              "</div>"
            ],
            "text/plain": [
              "Empty DataFrame\n",
              "Columns: [Name, Genre]\n",
              "Index: []"
            ]
          },
          "metadata": {
            "tags": []
          },
          "execution_count": 4
        }
      ]
    },
    {
      "cell_type": "code",
      "metadata": {
        "id": "zJtq0fnksF0B",
        "colab": {
          "base_uri": "https://localhost:8080/",
          "height": 49
        },
        "outputId": "169e2f11-4630-403e-ba4c-9f7fe15daf4c"
      },
      "source": [
        "#퍼블리셔 결측치 채우기\n",
        "Pub_data = null_data[['Name','Publisher']]\n",
        "\n",
        "null_Pub_data = Pub_data[Pub_data.isnull().any(axis=1)]\n",
        "\n",
        "null_Pub_data"
      ],
      "execution_count": 5,
      "outputs": [
        {
          "output_type": "execute_result",
          "data": {
            "text/html": [
              "<div>\n",
              "<style scoped>\n",
              "    .dataframe tbody tr th:only-of-type {\n",
              "        vertical-align: middle;\n",
              "    }\n",
              "\n",
              "    .dataframe tbody tr th {\n",
              "        vertical-align: top;\n",
              "    }\n",
              "\n",
              "    .dataframe thead th {\n",
              "        text-align: right;\n",
              "    }\n",
              "</style>\n",
              "<table border=\"1\" class=\"dataframe\">\n",
              "  <thead>\n",
              "    <tr style=\"text-align: right;\">\n",
              "      <th></th>\n",
              "      <th>Name</th>\n",
              "      <th>Publisher</th>\n",
              "    </tr>\n",
              "  </thead>\n",
              "  <tbody>\n",
              "  </tbody>\n",
              "</table>\n",
              "</div>"
            ],
            "text/plain": [
              "Empty DataFrame\n",
              "Columns: [Name, Publisher]\n",
              "Index: []"
            ]
          },
          "metadata": {
            "tags": []
          },
          "execution_count": 5
        }
      ]
    },
    {
      "cell_type": "code",
      "metadata": {
        "colab": {
          "base_uri": "https://localhost:8080/"
        },
        "id": "m0hUmCHpxum5",
        "outputId": "bc4c4123-5d27-4dd4-a687-672c4c2d177d"
      },
      "source": [
        "df['Year'] = df['Year'].astype(object)\n",
        "df['Year'].describe()"
      ],
      "execution_count": 6,
      "outputs": [
        {
          "output_type": "execute_result",
          "data": {
            "text/plain": [
              "count     16598\n",
              "unique       43\n",
              "top        2008\n",
              "freq       1455\n",
              "Name: Year, dtype: int64"
            ]
          },
          "metadata": {
            "tags": []
          },
          "execution_count": 6
        }
      ]
    },
    {
      "cell_type": "code",
      "metadata": {
        "colab": {
          "base_uri": "https://localhost:8080/"
        },
        "id": "DIS-yIhPCt3D",
        "outputId": "a2c98c50-357d-44c8-ad51-9292f3dcee26"
      },
      "source": [
        "df['NA_Sales'] = df['NA_Sales'].astype(object)\n",
        "df['NA_Sales'].describe()"
      ],
      "execution_count": 7,
      "outputs": [
        {
          "output_type": "execute_result",
          "data": {
            "text/plain": [
              "count     16598.0\n",
              "unique      409.0\n",
              "top           0.0\n",
              "freq       4499.0\n",
              "Name: NA_Sales, dtype: float64"
            ]
          },
          "metadata": {
            "tags": []
          },
          "execution_count": 7
        }
      ]
    },
    {
      "cell_type": "code",
      "metadata": {
        "colab": {
          "base_uri": "https://localhost:8080/"
        },
        "id": "PyMFZBw9D_bt",
        "outputId": "e7e0915a-bebc-444a-ac0e-f81df7b3a775"
      },
      "source": [
        "df['JP_Sales'] = df['JP_Sales'].astype(object)\n",
        "df['JP_Sales'].describe()"
      ],
      "execution_count": 8,
      "outputs": [
        {
          "output_type": "execute_result",
          "data": {
            "text/plain": [
              "count     16598.0\n",
              "unique      244.0\n",
              "top           0.0\n",
              "freq      10455.0\n",
              "Name: JP_Sales, dtype: float64"
            ]
          },
          "metadata": {
            "tags": []
          },
          "execution_count": 8
        }
      ]
    },
    {
      "cell_type": "code",
      "metadata": {
        "colab": {
          "base_uri": "https://localhost:8080/"
        },
        "id": "Rc2r2iGg_WPN",
        "outputId": "6a9e94df-09b0-4da4-a68a-1456677f81ca"
      },
      "source": [
        "df['EU_Sales'] = df['EU_Sales'].astype(object)\n",
        "df['EU_Sales'].describe()"
      ],
      "execution_count": 9,
      "outputs": [
        {
          "output_type": "execute_result",
          "data": {
            "text/plain": [
              "count     16598.0\n",
              "unique      305.0\n",
              "top           0.0\n",
              "freq       5730.0\n",
              "Name: EU_Sales, dtype: float64"
            ]
          },
          "metadata": {
            "tags": []
          },
          "execution_count": 9
        }
      ]
    },
    {
      "cell_type": "code",
      "metadata": {
        "colab": {
          "base_uri": "https://localhost:8080/"
        },
        "id": "dAey6Jmj_zW9",
        "outputId": "b183f9b2-8344-46f9-9959-f3446696fc2d"
      },
      "source": [
        "df['Other_Sales'] = df['Other_Sales'].astype(object)\n",
        "df['Other_Sales'].describe()"
      ],
      "execution_count": 10,
      "outputs": [
        {
          "output_type": "execute_result",
          "data": {
            "text/plain": [
              "count     16598.0\n",
              "unique      157.0\n",
              "top           0.0\n",
              "freq       6477.0\n",
              "Name: Other_Sales, dtype: float64"
            ]
          },
          "metadata": {
            "tags": []
          },
          "execution_count": 10
        }
      ]
    },
    {
      "cell_type": "code",
      "metadata": {
        "colab": {
          "base_uri": "https://localhost:8080/"
        },
        "id": "BcevMkO7_9Zr",
        "outputId": "19616488-1973-4d96-da5e-3a78f5ac90ae"
      },
      "source": [
        "#NA_Sales 상위 100개\n",
        "df_sort = df.sort_values(by = ['NA_Sales'],ascending=False).head(1000)\n",
        "pd.set_option('display.max_columns', None)\n",
        "pd.set_option('display.max_rows', None)\n",
        "df_sort['Genre'].value_counts()\n"
      ],
      "execution_count": 11,
      "outputs": [
        {
          "output_type": "execute_result",
          "data": {
            "text/plain": [
              "Action          204\n",
              "Shooter         140\n",
              "Sports          140\n",
              "Platform        107\n",
              "Misc             94\n",
              "Racing           80\n",
              "Role-Playing     71\n",
              "Fighting         66\n",
              "Simulation       41\n",
              "Puzzle           23\n",
              "Adventure        17\n",
              "Strategy         17\n",
              "Name: Genre, dtype: int64"
            ]
          },
          "metadata": {
            "tags": []
          },
          "execution_count": 11
        }
      ]
    },
    {
      "cell_type": "code",
      "metadata": {
        "id": "oTCoRrmgA1Tk",
        "colab": {
          "base_uri": "https://localhost:8080/"
        },
        "outputId": "e444e013-9b82-46c7-b9c2-8773933725f5"
      },
      "source": [
        "#JP_Sales 상위 100개\n",
        "df_sort = df.sort_values(by = ['JP_Sales'],ascending=False).head(1000)\n",
        "pd.set_option('display.max_columns', None)\n",
        "pd.set_option('display.max_rows', None)\n",
        "df_sort['Genre'].value_counts()"
      ],
      "execution_count": 12,
      "outputs": [
        {
          "output_type": "execute_result",
          "data": {
            "text/plain": [
              "Role-Playing    240\n",
              "Action          129\n",
              "Sports          106\n",
              "Platform        103\n",
              "Misc             88\n",
              "Fighting         81\n",
              "Puzzle           53\n",
              "Simulation       49\n",
              "Strategy         49\n",
              "Racing           41\n",
              "Adventure        31\n",
              "Shooter          30\n",
              "Name: Genre, dtype: int64"
            ]
          },
          "metadata": {
            "tags": []
          },
          "execution_count": 12
        }
      ]
    },
    {
      "cell_type": "code",
      "metadata": {
        "colab": {
          "base_uri": "https://localhost:8080/"
        },
        "id": "6_FhvRm_ONEt",
        "outputId": "2215e8f8-ff3c-47ea-9ff8-8046f5cf98d9"
      },
      "source": [
        "#EU_Sales 상위 100개\n",
        "df_sort = df.sort_values(by = ['EU_Sales'],ascending=False).head(1000)\n",
        "pd.set_option('display.max_columns', None)\n",
        "pd.set_option('display.max_rows', None)\n",
        "df_sort['Genre'].value_counts()"
      ],
      "execution_count": 13,
      "outputs": [
        {
          "output_type": "execute_result",
          "data": {
            "text/plain": [
              "Action          225\n",
              "Shooter         147\n",
              "Sports          131\n",
              "Racing           98\n",
              "Platform         95\n",
              "Misc             94\n",
              "Role-Playing     66\n",
              "Simulation       52\n",
              "Fighting         38\n",
              "Adventure        21\n",
              "Puzzle           18\n",
              "Strategy         15\n",
              "Name: Genre, dtype: int64"
            ]
          },
          "metadata": {
            "tags": []
          },
          "execution_count": 13
        }
      ]
    },
    {
      "cell_type": "code",
      "metadata": {
        "id": "AnmATuCiOlrF",
        "colab": {
          "base_uri": "https://localhost:8080/"
        },
        "outputId": "330c21c2-32e0-4f89-e4b4-988d8761be64"
      },
      "source": [
        "#Others_Sales 상위 100개\n",
        "df_sort = df.sort_values(by = ['Other_Sales'],ascending=False).head(1000)\n",
        "pd.set_option('display.max_columns', None)\n",
        "pd.set_option('display.max_rows', None)\n",
        "df_sort['Genre'].value_counts()"
      ],
      "execution_count": 14,
      "outputs": [
        {
          "output_type": "execute_result",
          "data": {
            "text/plain": [
              "Action          224\n",
              "Sports          162\n",
              "Shooter         141\n",
              "Racing           96\n",
              "Misc             94\n",
              "Role-Playing     74\n",
              "Platform         73\n",
              "Fighting         50\n",
              "Simulation       46\n",
              "Adventure        15\n",
              "Puzzle           15\n",
              "Strategy         10\n",
              "Name: Genre, dtype: int64"
            ]
          },
          "metadata": {
            "tags": []
          },
          "execution_count": 14
        }
      ]
    },
    {
      "cell_type": "code",
      "metadata": {
        "colab": {
          "base_uri": "https://localhost:8080/",
          "height": 173
        },
        "id": "vzGjEu-0hXbX",
        "outputId": "220b0f1b-869a-4fe1-e3cc-9c21b788ca55"
      },
      "source": [
        "#나라마다 7개의 항목에서 얼마나 팔렸는지 저장\n",
        "\n",
        "df_PCA=pd.DataFrame({'Contry':['NA','JP','EU','Other'],\n",
        "                             'Action':[204,129,225,224],\n",
        "                             'Shooter':[140,30,147,141],\n",
        "                             'Sports':[140,106,131,162],\n",
        "                             'Racing':[80,41,98,96],\n",
        "                             'Platform':[107,103,95,73],\n",
        "                             'Misc':[94,88,94,94],\n",
        "                             'Role-Playing':[71,240,66,74]   })\n",
        "\n",
        "df_PCA"
      ],
      "execution_count": 15,
      "outputs": [
        {
          "output_type": "execute_result",
          "data": {
            "text/html": [
              "<div>\n",
              "<style scoped>\n",
              "    .dataframe tbody tr th:only-of-type {\n",
              "        vertical-align: middle;\n",
              "    }\n",
              "\n",
              "    .dataframe tbody tr th {\n",
              "        vertical-align: top;\n",
              "    }\n",
              "\n",
              "    .dataframe thead th {\n",
              "        text-align: right;\n",
              "    }\n",
              "</style>\n",
              "<table border=\"1\" class=\"dataframe\">\n",
              "  <thead>\n",
              "    <tr style=\"text-align: right;\">\n",
              "      <th></th>\n",
              "      <th>Contry</th>\n",
              "      <th>Action</th>\n",
              "      <th>Shooter</th>\n",
              "      <th>Sports</th>\n",
              "      <th>Racing</th>\n",
              "      <th>Platform</th>\n",
              "      <th>Misc</th>\n",
              "      <th>Role-Playing</th>\n",
              "    </tr>\n",
              "  </thead>\n",
              "  <tbody>\n",
              "    <tr>\n",
              "      <th>0</th>\n",
              "      <td>NA</td>\n",
              "      <td>204</td>\n",
              "      <td>140</td>\n",
              "      <td>140</td>\n",
              "      <td>80</td>\n",
              "      <td>107</td>\n",
              "      <td>94</td>\n",
              "      <td>71</td>\n",
              "    </tr>\n",
              "    <tr>\n",
              "      <th>1</th>\n",
              "      <td>JP</td>\n",
              "      <td>129</td>\n",
              "      <td>30</td>\n",
              "      <td>106</td>\n",
              "      <td>41</td>\n",
              "      <td>103</td>\n",
              "      <td>88</td>\n",
              "      <td>240</td>\n",
              "    </tr>\n",
              "    <tr>\n",
              "      <th>2</th>\n",
              "      <td>EU</td>\n",
              "      <td>225</td>\n",
              "      <td>147</td>\n",
              "      <td>131</td>\n",
              "      <td>98</td>\n",
              "      <td>95</td>\n",
              "      <td>94</td>\n",
              "      <td>66</td>\n",
              "    </tr>\n",
              "    <tr>\n",
              "      <th>3</th>\n",
              "      <td>Other</td>\n",
              "      <td>224</td>\n",
              "      <td>141</td>\n",
              "      <td>162</td>\n",
              "      <td>96</td>\n",
              "      <td>73</td>\n",
              "      <td>94</td>\n",
              "      <td>74</td>\n",
              "    </tr>\n",
              "  </tbody>\n",
              "</table>\n",
              "</div>"
            ],
            "text/plain": [
              "  Contry  Action  Shooter  Sports  Racing  Platform  Misc  Role-Playing\n",
              "0     NA     204      140     140      80       107    94            71\n",
              "1     JP     129       30     106      41       103    88           240\n",
              "2     EU     225      147     131      98        95    94            66\n",
              "3  Other     224      141     162      96        73    94            74"
            ]
          },
          "metadata": {
            "tags": []
          },
          "execution_count": 15
        }
      ]
    },
    {
      "cell_type": "code",
      "metadata": {
        "colab": {
          "base_uri": "https://localhost:8080/",
          "height": 424
        },
        "id": "cpqLuvtiimSD",
        "outputId": "55ba5691-d854-40b5-f83c-408bebc36c14"
      },
      "source": [
        "from sklearn.preprocessing import StandardScaler, Normalizer\n",
        "from sklearn.decomposition import PCA\n",
        "import matplotlib.pyplot as plt\n",
        "import seaborn as sns\n",
        "\n",
        "#PCA를 통해 차원을 줄이고, 2차원 평면에 산점도를 이용해서 서로간에 어떤 상관성을 보이는지 확인\n",
        "\n",
        "headers = ['Action','Sports','Shooter','Racing','Misc','Role-Playing','Platform']\n",
        "df_PCA_list = df_PCA[headers]\n",
        "scaler = StandardScaler()\n",
        "Z = scaler.fit_transform(df_PCA_list)\n",
        "\n",
        "\n",
        "pca = PCA(n_components= 2)\n",
        "pc = pca.fit_transform(Z)\n",
        "ratio = pca.explained_variance_ratio_\n",
        "\n",
        "plt.scatter(pc[:,0],pc[:,1])\n",
        "new_df = pd.DataFrame({'Contry': df_PCA['Contry'],\n",
        "                       'pc1': pc[:,0],\n",
        "                       'pc2': pc[:,1]\n",
        "                       })\n",
        "\n",
        "sns.scatterplot(data= new_df, x=pc[:,0], y=pc[:,1], hue='Contry')\n",
        "\n",
        "new_df"
      ],
      "execution_count": 16,
      "outputs": [
        {
          "output_type": "execute_result",
          "data": {
            "text/html": [
              "<div>\n",
              "<style scoped>\n",
              "    .dataframe tbody tr th:only-of-type {\n",
              "        vertical-align: middle;\n",
              "    }\n",
              "\n",
              "    .dataframe tbody tr th {\n",
              "        vertical-align: top;\n",
              "    }\n",
              "\n",
              "    .dataframe thead th {\n",
              "        text-align: right;\n",
              "    }\n",
              "</style>\n",
              "<table border=\"1\" class=\"dataframe\">\n",
              "  <thead>\n",
              "    <tr style=\"text-align: right;\">\n",
              "      <th></th>\n",
              "      <th>Contry</th>\n",
              "      <th>pc1</th>\n",
              "      <th>pc2</th>\n",
              "    </tr>\n",
              "  </thead>\n",
              "  <tbody>\n",
              "    <tr>\n",
              "      <th>0</th>\n",
              "      <td>NA</td>\n",
              "      <td>-0.654111</td>\n",
              "      <td>-1.126823</td>\n",
              "    </tr>\n",
              "    <tr>\n",
              "      <th>1</th>\n",
              "      <td>JP</td>\n",
              "      <td>4.113424</td>\n",
              "      <td>0.347028</td>\n",
              "    </tr>\n",
              "    <tr>\n",
              "      <th>2</th>\n",
              "      <td>EU</td>\n",
              "      <td>-1.320119</td>\n",
              "      <td>-0.606056</td>\n",
              "    </tr>\n",
              "    <tr>\n",
              "      <th>3</th>\n",
              "      <td>Other</td>\n",
              "      <td>-2.139194</td>\n",
              "      <td>1.385851</td>\n",
              "    </tr>\n",
              "  </tbody>\n",
              "</table>\n",
              "</div>"
            ],
            "text/plain": [
              "  Contry       pc1       pc2\n",
              "0     NA -0.654111 -1.126823\n",
              "1     JP  4.113424  0.347028\n",
              "2     EU -1.320119 -0.606056\n",
              "3  Other -2.139194  1.385851"
            ]
          },
          "metadata": {
            "tags": []
          },
          "execution_count": 16
        },
        {
          "output_type": "display_data",
          "data": {
            "image/png": "[encoded data removed]",
            "text/plain": [
              "<Figure size 432x288 with 1 Axes>"
            ]
          },
          "metadata": {
            "tags": [],
            "needs_background": "light"
          }
        }
      ]
    },
    {
      "cell_type": "code",
      "metadata": {
        "id": "qzwu3RqYi304"
      },
      "source": [
        "#중복되는 행 찾아보기\n",
        "\n",
        "duplicate_df = df[df.duplicated()]"
      ],
      "execution_count": 17,
      "outputs": []
    },
    {
      "cell_type": "code",
      "metadata": {
        "id": "zIOFRHQJrNmx"
      },
      "source": [
        "df_duplicate = df[df.duplicated(subset='Name')]"
      ],
      "execution_count": 18,
      "outputs": []
    },
    {
      "cell_type": "code",
      "metadata": {
        "colab": {
          "base_uri": "https://localhost:8080/",
          "height": 299
        },
        "id": "N-Im9LN4rSq3",
        "outputId": "a1452fe4-acf0-4d27-cb46-ec9f85046bfa"
      },
      "source": [
        "import numpy as np\n",
        "\n",
        "scaler = StandardScaler()\n",
        "z = scaler.fit_transform(df_PCA_list)\n",
        "\n",
        "\n",
        "pca2 = PCA()\n",
        "pc2 = pca2.fit_transform(z)\n",
        "\n",
        "per_var = np.round(pca2.explained_variance_ratio_ * 100, decimals = 1)\n",
        "plt.title('Scree Plot')\n",
        "plt.bar(x=range(1,len(per_var)+1),height=per_var)\n",
        "\n",
        "#이로서 pc1 pc2 로 나타내기 적합함을 알아냄\n",
        "\n",
        "\n"
      ],
      "execution_count": 19,
      "outputs": [
        {
          "output_type": "execute_result",
          "data": {
            "text/plain": [
              "<BarContainer object of 4 artists>"
            ]
          },
          "metadata": {
            "tags": []
          },
          "execution_count": 19
        },
        {
          "output_type": "display_data",
          "data": {
            "image/png": "[encoded data removed]",
            "text/plain": [
              "<Figure size 432x288 with 1 Axes>"
            ]
          },
          "metadata": {
            "tags": [],
            "needs_background": "light"
          }
        }
      ]
    },
    {
      "cell_type": "code",
      "metadata": {
        "colab": {
          "base_uri": "https://localhost:8080/",
          "height": 173
        },
        "id": "V3ZGSxssP6Sa",
        "outputId": "108dbd99-9033-438d-a74c-55502f5b10fc"
      },
      "source": [
        "df_PCA[0:4]"
      ],
      "execution_count": 20,
      "outputs": [
        {
          "output_type": "execute_result",
          "data": {
            "text/html": [
              "<div>\n",
              "<style scoped>\n",
              "    .dataframe tbody tr th:only-of-type {\n",
              "        vertical-align: middle;\n",
              "    }\n",
              "\n",
              "    .dataframe tbody tr th {\n",
              "        vertical-align: top;\n",
              "    }\n",
              "\n",
              "    .dataframe thead th {\n",
              "        text-align: right;\n",
              "    }\n",
              "</style>\n",
              "<table border=\"1\" class=\"dataframe\">\n",
              "  <thead>\n",
              "    <tr style=\"text-align: right;\">\n",
              "      <th></th>\n",
              "      <th>Contry</th>\n",
              "      <th>Action</th>\n",
              "      <th>Shooter</th>\n",
              "      <th>Sports</th>\n",
              "      <th>Racing</th>\n",
              "      <th>Platform</th>\n",
              "      <th>Misc</th>\n",
              "      <th>Role-Playing</th>\n",
              "    </tr>\n",
              "  </thead>\n",
              "  <tbody>\n",
              "    <tr>\n",
              "      <th>0</th>\n",
              "      <td>NA</td>\n",
              "      <td>204</td>\n",
              "      <td>140</td>\n",
              "      <td>140</td>\n",
              "      <td>80</td>\n",
              "      <td>107</td>\n",
              "      <td>94</td>\n",
              "      <td>71</td>\n",
              "    </tr>\n",
              "    <tr>\n",
              "      <th>1</th>\n",
              "      <td>JP</td>\n",
              "      <td>129</td>\n",
              "      <td>30</td>\n",
              "      <td>106</td>\n",
              "      <td>41</td>\n",
              "      <td>103</td>\n",
              "      <td>88</td>\n",
              "      <td>240</td>\n",
              "    </tr>\n",
              "    <tr>\n",
              "      <th>2</th>\n",
              "      <td>EU</td>\n",
              "      <td>225</td>\n",
              "      <td>147</td>\n",
              "      <td>131</td>\n",
              "      <td>98</td>\n",
              "      <td>95</td>\n",
              "      <td>94</td>\n",
              "      <td>66</td>\n",
              "    </tr>\n",
              "    <tr>\n",
              "      <th>3</th>\n",
              "      <td>Other</td>\n",
              "      <td>224</td>\n",
              "      <td>141</td>\n",
              "      <td>162</td>\n",
              "      <td>96</td>\n",
              "      <td>73</td>\n",
              "      <td>94</td>\n",
              "      <td>74</td>\n",
              "    </tr>\n",
              "  </tbody>\n",
              "</table>\n",
              "</div>"
            ],
            "text/plain": [
              "  Contry  Action  Shooter  Sports  Racing  Platform  Misc  Role-Playing\n",
              "0     NA     204      140     140      80       107    94            71\n",
              "1     JP     129       30     106      41       103    88           240\n",
              "2     EU     225      147     131      98        95    94            66\n",
              "3  Other     224      141     162      96        73    94            74"
            ]
          },
          "metadata": {
            "tags": []
          },
          "execution_count": 20
        }
      ]
    },
    {
      "cell_type": "code",
      "metadata": {
        "colab": {
          "base_uri": "https://localhost:8080/",
          "height": 307
        },
        "id": "T87AppUErsPZ",
        "outputId": "74ff566e-e736-4831-b990-ca1581b0c1db"
      },
      "source": [
        "# 미국 장르 시각화\n",
        "\n",
        "header = ['Action',\t'Shooter'\t,'Sports',\t'Racing',\t'Platform'\t,'Misc',\t'Role-Playing']\n",
        "NA_list = [204,140,140,80,107,94,71]\n",
        "index = header\n",
        "\n",
        "plt.bar(index, NA_list)\n",
        "\n",
        "plt.title('Sum of Genre (Top NA 1000 games)', fontsize=20)\n",
        "\n",
        "plt.xlabel('Genre', fontsize=18)\n",
        "\n",
        "plt.ylabel('Sum of Genre', fontsize=18)\n",
        "\n",
        "plt.xticks(index,fontsize=9)\n",
        "\n",
        "plt.show()\n"
      ],
      "execution_count": 24,
      "outputs": [
        {
          "output_type": "display_data",
          "data": {
            "image/png": "[encoded data removed]",
            "text/plain": [
              "<Figure size 432x288 with 1 Axes>"
            ]
          },
          "metadata": {
            "tags": [],
            "needs_background": "light"
          }
        }
      ]
    },
    {
      "cell_type": "code",
      "metadata": {
        "colab": {
          "base_uri": "https://localhost:8080/",
          "height": 307
        },
        "id": "-kzUJztiQCJd",
        "outputId": "9847772e-49a3-4326-c360-d3895f6a6668"
      },
      "source": [
        "# 유럽 장르 시각화\n",
        "\n",
        "\n",
        "EU_list = [225,\t147,\t131,\t98,\t95,\t94,\t66]\n",
        "index = header\n",
        "\n",
        "plt.bar(index, EU_list)\n",
        "\n",
        "plt.title('Sum of Genre (Top EU 1000 games)', fontsize=20)\n",
        "\n",
        "plt.xlabel('Genre', fontsize=18)\n",
        "\n",
        "plt.ylabel('Sum of Genre', fontsize=18)\n",
        "\n",
        "plt.xticks(index,fontsize=9)\n",
        "\n",
        "plt.show()\n"
      ],
      "execution_count": 28,
      "outputs": [
        {
          "output_type": "display_data",
          "data": {
            "image/png": "[encoded data removed]",
            "text/plain": [
              "<Figure size 432x288 with 1 Axes>"
            ]
          },
          "metadata": {
            "tags": [],
            "needs_background": "light"
          }
        }
      ]
    },
    {
      "cell_type": "code",
      "metadata": {
        "colab": {
          "base_uri": "https://localhost:8080/",
          "height": 307
        },
        "id": "bNAmaVbobnJa",
        "outputId": "14ce9370-2461-4f89-cb2b-fd37e11cd1fa"
      },
      "source": [
        "# 일본 장르 시각화\n",
        "\n",
        "\n",
        "JP_list = [129,\t30,\t106,\t41,\t103,\t88,\t240]\n",
        "index = header\n",
        "\n",
        "plt.bar(index, JP_list)\n",
        "\n",
        "plt.title('Sum of Genre (Top JP 1000 games)', fontsize=20)\n",
        "\n",
        "plt.xlabel('Genre', fontsize=18)\n",
        "\n",
        "plt.ylabel('Sum of Genre', fontsize=18)\n",
        "\n",
        "plt.xticks(index,fontsize=9)\n",
        "\n",
        "plt.show()\n"
      ],
      "execution_count": 29,
      "outputs": [
        {
          "output_type": "display_data",
          "data": {
            "image/png": "[encoded data removed]",
            "text/plain": [
              "<Figure size 432x288 with 1 Axes>"
            ]
          },
          "metadata": {
            "tags": [],
            "needs_background": "light"
          }
        }
      ]
    },
    {
      "cell_type": "code",
      "metadata": {
        "colab": {
          "base_uri": "https://localhost:8080/",
          "height": 307
        },
        "id": "OpLhjtkPcSZG",
        "outputId": "bd6af337-7417-4fd1-afc0-df144a57f730"
      },
      "source": [
        "# Other 장르 시각화\n",
        "\n",
        "\n",
        "Other_list = [224,\t141,\t162,\t96,\t73,\t94,\t74]\n",
        "index = header\n",
        "\n",
        "plt.bar(index, Other_list)\n",
        "\n",
        "plt.title('Sum of Genre (Top Others 1000 games)', fontsize=20)\n",
        "\n",
        "plt.xlabel('Genre', fontsize=18)\n",
        "\n",
        "plt.ylabel('Sum of Genre', fontsize=18)\n",
        "\n",
        "plt.xticks(index,fontsize=9)\n",
        "\n",
        "plt.show()\n"
      ],
      "execution_count": 32,
      "outputs": [
        {
          "output_type": "display_data",
          "data": {
            "image/png": "[encoded data removed]",
            "text/plain": [
              "<Figure size 432x288 with 1 Axes>"
            ]
          },
          "metadata": {
            "tags": [],
            "needs_background": "light"
          }
        }
      ]
    },
    {
      "cell_type": "code",
      "metadata": {
        "id": "4rCHhBsOptEp"
      },
      "source": [
        ""
      ],
      "execution_count": null,
      "outputs": []
    }
  ]
}